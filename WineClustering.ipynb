{
 "cells": [
  {
   "cell_type": "markdown",
   "id": "31cd3d85-c3f6-4923-b5a8-edf2df073668",
   "metadata": {
    "tags": []
   },
   "source": [
    "# Wine Clustering \n",
    "### As a part time job during my last semester at University, I worked at the Wine Rack. Most of my job consisted of recommending wines to people and a lot of times this consisted of suggesting a similar wine based on another one they liked. \n",
    "### So, I thought I could use ML to make my life easier!\n",
    "\n",
    "- ### I first scraped the Wine Rack Website, to grab wine names and tasting notes.\n",
    "- ### I then cleaned the text, to make it easier for clustering.\n",
    "- ### Finally I created clusters based on similar tasting notes.\n",
    "\n"
   ]
  },
  {
   "cell_type": "markdown",
   "id": "96a9c0d8-0e68-46c8-8670-4dbeb7f5c2ed",
   "metadata": {},
   "source": [
    "**1. Scraping the Wine Rack Website**"
   ]
  },
  {
   "cell_type": "code",
   "execution_count": 2,
   "id": "b2978471-e780-452a-a929-d1ba5bf19028",
   "metadata": {},
   "outputs": [],
   "source": [
    "\n",
    "# import libraries\n",
    "import requests\n",
    "from bs4 import BeautifulSoup\n",
    "import csv\n",
    "\n",
    "# need to scrape for both red and white wine seperatley\n",
    "MASTER_URL = \"https://www.winerack.com/\"\n",
    "\n",
    "def getProductLinks(url, file):\n",
    "    page = requests.get(url)\n",
    "    soup = BeautifulSoup(page.content, \"html.parser\")\n",
    "    wine = soup.find_all(\"div\", class_=\"product-tile-grid\")\n",
    "    \n",
    "    # create the csv writer\n",
    "    writer = csv.writer(file)\n",
    "    \n",
    "    # write a row to the csv file\n",
    "    row = [\"wine\", \"tastingNotes\", \"price\"]\n",
    "    writer.writerow(row)\n",
    "    \n",
    "    # loop through all product links and get details for each product\n",
    "    for item in wine:\n",
    "        wineLink = item.find(\"a\", href=True)\n",
    "        productURL = MASTER_URL + wineLink['href']\n",
    "        details = getWineDetails(productURL)\n",
    "        writer.writerow(details)  \n",
    "    \n",
    "    # close the file\n",
    "    f.close()\n",
    "\n",
    "# product details\n",
    "def getWineDetails(url):\n",
    "    page = requests.get(url)\n",
    "    soup = BeautifulSoup(page.content, \"html.parser\")\n",
    "    # wine name\n",
    "    details = soup.find(\"div\", class_ = \"awc-product-detail__details\")\n",
    "    name = details.find(\"h1\").getText()\n",
    "    # price\n",
    "    price = soup.find(\"div\", class_=\"col-6 col-md-12 col-sm-6 awc-product-detail__price\")\n",
    "    #tasting notes\n",
    "    tasting = soup.find(\"div\", class_=\"awc-pdp-tasting-notes__main-text\")\n",
    "    tastingNotes = tasting.getText()\n",
    "    priceFinal = price.find(\"p\").getText()\n",
    "    return [name, tastingNotes, priceFinal]\n",
    "\n",
    "# red wine\n",
    "url = \"https://www.winerack.com/products/red/?page=4\"\n",
    "f = open('/Users/bridgetmoynihan/redWines.csv', 'w')\n",
    "getProductLinks(url, f)\n",
    "\n",
    "# white wine\n",
    "url = \"https://www.winerack.com/products/white/?page=4\"\n",
    "f = open('/Users/bridgetmoynihan/whiteWines.csv', 'w')\n",
    "getProductLinks(url, f)\n",
    "\n"
   ]
  },
  {
   "cell_type": "markdown",
   "id": "f0e260e4-cf1a-4205-82eb-4d6f0cf20fc5",
   "metadata": {},
   "source": [
    "**2. Text Cleaning**"
   ]
  },
  {
   "cell_type": "code",
   "execution_count": 3,
   "id": "5424c2ac-4b88-4e05-b377-3d5e8b1f7b36",
   "metadata": {},
   "outputs": [],
   "source": [
    "# load necessary libraries\n",
    "import pandas as pd\n",
    "import numpy as np\n",
    "#for text pre-processing\n",
    "import re, string\n",
    "import nltk\n",
    "from nltk.tokenize import word_tokenize\n",
    "from nltk.corpus import stopwords\n",
    "from nltk.tokenize import word_tokenize\n",
    "from nltk.stem import SnowballStemmer\n",
    "from nltk.corpus import wordnet\n",
    "from nltk.stem import WordNetLemmatizer\n",
    "\n",
    "# bag of words\n",
    "from sklearn.feature_extraction.text import TfidfVectorizer\n",
    "#from sklearn.feature_extraction.text import CountVectorizer\n",
    "\n",
    "\n",
    "#load csv file as dataframe\n",
    "dfRedWine = pd.read_csv(\"/Users/bridgetmoynihan/redWines.csv\")\n",
    "dfWhiteWine = pd.read_csv(\"/Users/bridgetmoynihan/whiteWines.csv\")\n"
   ]
  },
  {
   "cell_type": "code",
   "execution_count": 4,
   "id": "7ef59d7d-57ff-466a-81fc-a32b5f678100",
   "metadata": {},
   "outputs": [],
   "source": [
    "# convert to lowercase, strip and remove punctuations\n",
    "def preprocess(text):\n",
    "    text = text.lower() \n",
    "    text=text.strip()  \n",
    "    text=re.compile('<.*?>').sub('', text) \n",
    "    text = re.compile('[%s]' % re.escape(string.punctuation)).sub(' ', text)  \n",
    "    text = re.sub('\\s+', ' ', text)  \n",
    "    text = re.sub(r'\\[[0-9]*\\]',' ',text) \n",
    "    text=re.sub(r'[^\\w\\s]', '', str(text).lower().strip())\n",
    "    text = re.sub(r'\\d',' ',text) \n",
    "    text = re.sub(r'\\s+',' ',text) \n",
    "    return text\n",
    "\n",
    " \n",
    "# remove stopwards\n",
    "def stopword(string):\n",
    "    a= [i for i in string.split() if i not in stopwords.words('english')]\n",
    "    return ' '.join(a)\n",
    "\n",
    "# Lemmatizatiom\n",
    "# Initialize the lemmatizer\n",
    "wl = WordNetLemmatizer()\n",
    " \n",
    "# This is a helper function to map NTLK position tags\n",
    "def get_wordnet_pos(tag):\n",
    "    if tag.startswith('J'):\n",
    "        return wordnet.ADJ\n",
    "    elif tag.startswith('V'):\n",
    "        return wordnet.VERB\n",
    "    elif tag.startswith('N'):\n",
    "        return wordnet.NOUN\n",
    "    elif tag.startswith('R'):\n",
    "        return wordnet.ADV\n",
    "    else:\n",
    "        return wordnet.NOUN\n",
    "    \n",
    "# Tokenize the sentence\n",
    "def lemmatizer(string):\n",
    "    word_pos_tags = nltk.pos_tag(word_tokenize(string)) # Get position tags\n",
    "    a=[wl.lemmatize(tag[0], get_wordnet_pos(tag[1])) for idx, tag in enumerate(word_pos_tags)] # Map the position tag and lemmatize the word/token\n",
    "    return \" \".join(a)\n",
    "\n",
    "# call all the cleaning functions\n",
    "def finalpreprocess(string):\n",
    "    return lemmatizer(stopword(preprocess(string)))\n",
    "\n",
    "# clean tasting notes column of both red and white wines \n",
    "dfRedWine['clean_tastingNotes'] = dfRedWine['tastingNotes'].apply(lambda x: finalpreprocess(x))\n",
    "dfWhiteWine['clean_tastingNotes'] = dfWhiteWine['tastingNotes'].apply(lambda x: finalpreprocess(x))"
   ]
  },
  {
   "cell_type": "code",
   "execution_count": 8,
   "id": "8dc49ea7-139f-49e5-8e5c-4afcb27c5775",
   "metadata": {},
   "outputs": [
    {
     "data": {
      "text/html": [
       "<div>\n",
       "<style scoped>\n",
       "    .dataframe tbody tr th:only-of-type {\n",
       "        vertical-align: middle;\n",
       "    }\n",
       "\n",
       "    .dataframe tbody tr th {\n",
       "        vertical-align: top;\n",
       "    }\n",
       "\n",
       "    .dataframe thead th {\n",
       "        text-align: right;\n",
       "    }\n",
       "</style>\n",
       "<table border=\"1\" class=\"dataframe\">\n",
       "  <thead>\n",
       "    <tr style=\"text-align: right;\">\n",
       "      <th></th>\n",
       "      <th>wine</th>\n",
       "      <th>tastingNotes</th>\n",
       "      <th>price</th>\n",
       "      <th>clean_tastingNotes</th>\n",
       "    </tr>\n",
       "  </thead>\n",
       "  <tbody>\n",
       "    <tr>\n",
       "      <th>0</th>\n",
       "      <td>Bodacious Smooth Red</td>\n",
       "      <td>Bold, rich &amp; juicy. Medium-bodied red with aro...</td>\n",
       "      <td>$46.95</td>\n",
       "      <td>bold rich juicy medium body red aroma blackber...</td>\n",
       "    </tr>\n",
       "    <tr>\n",
       "      <th>1</th>\n",
       "      <td>Imperial Fortified Wine</td>\n",
       "      <td>Medium amber colour; aromas of walnuts, carame...</td>\n",
       "      <td>$10.95</td>\n",
       "      <td>medium amber colour aroma walnut caramel figs ...</td>\n",
       "    </tr>\n",
       "    <tr>\n",
       "      <th>2</th>\n",
       "      <td>Jackson-Triggs Grand Reserve Red Meritage VQA</td>\n",
       "      <td>Fruit forward, with generous notes of juicy re...</td>\n",
       "      <td>$25.95</td>\n",
       "      <td>fruit forward generous note juicy red fruit bl...</td>\n",
       "    </tr>\n",
       "    <tr>\n",
       "      <th>3</th>\n",
       "      <td>Sandbanks Sleeping Giant Foch-Baco VQA</td>\n",
       "      <td>This luscious full-bodied wine offers a fruit-...</td>\n",
       "      <td>$17.95</td>\n",
       "      <td>luscious full body wine offer fruit forward pa...</td>\n",
       "    </tr>\n",
       "    <tr>\n",
       "      <th>4</th>\n",
       "      <td>Wallaroo Trail - 2 Origins Cabernet Sauvignon</td>\n",
       "      <td>An Australian and Canadian blend with aromas o...</td>\n",
       "      <td>$13.95</td>\n",
       "      <td>australian canadian blend aroma blackberry che...</td>\n",
       "    </tr>\n",
       "  </tbody>\n",
       "</table>\n",
       "</div>"
      ],
      "text/plain": [
       "                                            wine  \\\n",
       "0                           Bodacious Smooth Red   \n",
       "1                        Imperial Fortified Wine   \n",
       "2  Jackson-Triggs Grand Reserve Red Meritage VQA   \n",
       "3         Sandbanks Sleeping Giant Foch-Baco VQA   \n",
       "4  Wallaroo Trail - 2 Origins Cabernet Sauvignon   \n",
       "\n",
       "                                        tastingNotes   price  \\\n",
       "0  Bold, rich & juicy. Medium-bodied red with aro...  $46.95   \n",
       "1  Medium amber colour; aromas of walnuts, carame...  $10.95   \n",
       "2  Fruit forward, with generous notes of juicy re...  $25.95   \n",
       "3  This luscious full-bodied wine offers a fruit-...  $17.95   \n",
       "4  An Australian and Canadian blend with aromas o...  $13.95   \n",
       "\n",
       "                                  clean_tastingNotes  \n",
       "0  bold rich juicy medium body red aroma blackber...  \n",
       "1  medium amber colour aroma walnut caramel figs ...  \n",
       "2  fruit forward generous note juicy red fruit bl...  \n",
       "3  luscious full body wine offer fruit forward pa...  \n",
       "4  australian canadian blend aroma blackberry che...  "
      ]
     },
     "execution_count": 8,
     "metadata": {},
     "output_type": "execute_result"
    }
   ],
   "source": [
    "# looking at the difference between clean tasting notes and original\n",
    "dfRedWine.head()"
   ]
  },
  {
   "cell_type": "code",
   "execution_count": 7,
   "id": "2a77f440-0066-4d28-aad6-e7172ff3b799",
   "metadata": {},
   "outputs": [
    {
     "data": {
      "text/html": [
       "<div>\n",
       "<style scoped>\n",
       "    .dataframe tbody tr th:only-of-type {\n",
       "        vertical-align: middle;\n",
       "    }\n",
       "\n",
       "    .dataframe tbody tr th {\n",
       "        vertical-align: top;\n",
       "    }\n",
       "\n",
       "    .dataframe thead th {\n",
       "        text-align: right;\n",
       "    }\n",
       "</style>\n",
       "<table border=\"1\" class=\"dataframe\">\n",
       "  <thead>\n",
       "    <tr style=\"text-align: right;\">\n",
       "      <th></th>\n",
       "      <th>wine</th>\n",
       "      <th>tastingNotes</th>\n",
       "      <th>price</th>\n",
       "      <th>clean_tastingNotes</th>\n",
       "    </tr>\n",
       "  </thead>\n",
       "  <tbody>\n",
       "    <tr>\n",
       "      <th>0</th>\n",
       "      <td>Audacity Of Thomas G. Bright Orange Wine VQA</td>\n",
       "      <td>Orange wine is a trendy new wine where extende...</td>\n",
       "      <td>$18.95</td>\n",
       "      <td>orange wine trendy new wine extend grape skin ...</td>\n",
       "    </tr>\n",
       "    <tr>\n",
       "      <th>1</th>\n",
       "      <td>Caleta - 2 Origins Sauvignon Blanc</td>\n",
       "      <td>A Chilean and Canadian blend with aromas of me...</td>\n",
       "      <td>$10.95</td>\n",
       "      <td>chilean canadian blend aroma melon pear apple ...</td>\n",
       "    </tr>\n",
       "    <tr>\n",
       "      <th>2</th>\n",
       "      <td>Inniskillin Vidal VQA</td>\n",
       "      <td>The Vidal Icewine has intense aromas of mango,...</td>\n",
       "      <td>$7.95</td>\n",
       "      <td>vidal icewine intense aroma mango apricot hone...</td>\n",
       "    </tr>\n",
       "    <tr>\n",
       "      <th>3</th>\n",
       "      <td>Inniskillin Vidal Icewine VQA</td>\n",
       "      <td>The Vidal Pearl Icewine has intense aromas of ...</td>\n",
       "      <td>$24.95</td>\n",
       "      <td>vidal pearl icewine intense aroma mango aprico...</td>\n",
       "    </tr>\n",
       "    <tr>\n",
       "      <th>4</th>\n",
       "      <td>Jackson Triggs PS Pinot Grigio</td>\n",
       "      <td>A classic! Our Jackson-Triggs Proprietors' Sel...</td>\n",
       "      <td>$49.95</td>\n",
       "      <td>classic jackson triggs proprietor selection pi...</td>\n",
       "    </tr>\n",
       "  </tbody>\n",
       "</table>\n",
       "</div>"
      ],
      "text/plain": [
       "                                           wine  \\\n",
       "0  Audacity Of Thomas G. Bright Orange Wine VQA   \n",
       "1            Caleta - 2 Origins Sauvignon Blanc   \n",
       "2                         Inniskillin Vidal VQA   \n",
       "3                 Inniskillin Vidal Icewine VQA   \n",
       "4                Jackson Triggs PS Pinot Grigio   \n",
       "\n",
       "                                        tastingNotes   price  \\\n",
       "0  Orange wine is a trendy new wine where extende...  $18.95   \n",
       "1  A Chilean and Canadian blend with aromas of me...  $10.95   \n",
       "2  The Vidal Icewine has intense aromas of mango,...   $7.95   \n",
       "3  The Vidal Pearl Icewine has intense aromas of ...  $24.95   \n",
       "4  A classic! Our Jackson-Triggs Proprietors' Sel...  $49.95   \n",
       "\n",
       "                                  clean_tastingNotes  \n",
       "0  orange wine trendy new wine extend grape skin ...  \n",
       "1  chilean canadian blend aroma melon pear apple ...  \n",
       "2  vidal icewine intense aroma mango apricot hone...  \n",
       "3  vidal pearl icewine intense aroma mango aprico...  \n",
       "4  classic jackson triggs proprietor selection pi...  "
      ]
     },
     "execution_count": 7,
     "metadata": {},
     "output_type": "execute_result"
    }
   ],
   "source": [
    "# looking at the difference between clean tasting notes and original\n",
    "dfWhiteWine.head()"
   ]
  },
  {
   "cell_type": "markdown",
   "id": "af1e9715-7e1d-41cc-9822-bf3c427e066a",
   "metadata": {},
   "source": [
    "**3. Model Fitting**\n"
   ]
  },
  {
   "cell_type": "markdown",
   "id": "d34a94a4-bf15-4eae-a538-2ebe740a8692",
   "metadata": {},
   "source": [
    "### Red Wine Model Building"
   ]
  },
  {
   "cell_type": "code",
   "execution_count": 18,
   "id": "386d018b-e669-445b-9d90-68180d2fa7b1",
   "metadata": {},
   "outputs": [
    {
     "name": "stdout",
     "output_type": "stream",
     "text": [
      "RED WINE CLUSTER FEATURE NAMES\n",
      "Cluster 0:\n",
      " wine\n",
      " bask\n",
      " cherry\n",
      " hint\n",
      " cabernet\n",
      " blackcurrant\n",
      " rounded\n",
      " spice\n",
      " finish\n",
      " smooth\n",
      "Cluster 1:\n",
      " fruit\n",
      " vanilla\n",
      " palate\n",
      " spice\n",
      " red\n",
      " plum\n",
      " dark\n",
      " note\n",
      " cherry\n",
      " hint\n",
      "Cluster 2:\n",
      " canadian\n",
      " blend\n",
      " blackberry\n",
      " smooth\n",
      " flavour\n",
      " bold\n",
      " aroma\n",
      " medium\n",
      " body\n",
      " australian\n",
      "Cluster 3:\n",
      " dry\n",
      " light\n",
      " colour\n",
      " fresh\n",
      " medium\n",
      " ruby\n",
      " crisp\n",
      " berry\n",
      " wine\n",
      " note\n"
     ]
    }
   ],
   "source": [
    "from sklearn.feature_extraction.text import TfidfVectorizer\n",
    "from sklearn.cluster import KMeans\n",
    "\n",
    "vectorizer = TfidfVectorizer(stop_words='english')\n",
    "\n",
    "### Red Wine\n",
    "X = vectorizer.fit_transform(dfRedWine['clean_tastingNotes'])\n",
    "modelRedWine = KMeans(n_clusters=4, init='k-means++', max_iter=100, n_init=1)\n",
    "modelRedWine.fit(X)\n",
    "order_centroids = modelRedWine.cluster_centers_.argsort()[:, ::-1]\n",
    "terms = vectorizer.get_feature_names()\n",
    "\n",
    "# looking at Red Wine cluster feature names\n",
    "print(\"RED WINE CLUSTER FEATURE NAMES\")\n",
    "for i in range(4):\n",
    "    print(\"Cluster %d:\" % i),\n",
    "    for ind in order_centroids[i, :10]:\n",
    "        print(\" %s\" % terms[ind])\n",
    "# adding red wine clusters to csv\n",
    "labels = modelRedWine.labels_\n",
    "dfRedWine[\"Cluster\"] = labels\n",
    "dfRedWine.to_csv(\"/Users/bridgetmoynihan/redWines.csv\")\n"
   ]
  },
  {
   "cell_type": "markdown",
   "id": "9fcac760-2fd2-42e1-beea-0300a605095c",
   "metadata": {
    "tags": []
   },
   "source": [
    "#### Now, I am going to pull a red wine from the LCBO website, to see how it is classified\n",
    "##### I am pulling a California sweeter cabernet sauvignon"
   ]
  },
  {
   "cell_type": "code",
   "execution_count": 19,
   "id": "61681e7b-8893-4985-956f-d3a7d2a73471",
   "metadata": {},
   "outputs": [
    {
     "name": "stdout",
     "output_type": "stream",
     "text": [
      "[1]\n"
     ]
    }
   ],
   "source": [
    "textTest1 = \"California has a world-class reputation for great cabernet sauvignon, and this rich example shows why. It brims with aromas of toast, nuts, dark fruit and chocolate that lead to flavours of ripe dark fruit and chocolate-covered plums and ends in a smooth finish with a hint of spice. Enjoy with grilled steak or on its own.\"\n",
    "cleanTextTest1 = finalpreprocess(textTest1)\n",
    "X = vectorizer.transform([cleanTextTest1])\n",
    "predicted = modelRedWine.predict(X)\n",
    "print(predicted)\n"
   ]
  },
  {
   "cell_type": "markdown",
   "id": "3e0c0054-070c-4654-95f9-a058c773e17e",
   "metadata": {},
   "source": [
    "##### I reviewed the other red wines in cluster 1, and from my tasting expereince, the cabernet sauvignon I picked is similar to the other wines."
   ]
  },
  {
   "cell_type": "markdown",
   "id": "513addf9-6aee-410d-8267-c8938f099472",
   "metadata": {},
   "source": [
    "### White Wine Model Building"
   ]
  },
  {
   "cell_type": "code",
   "execution_count": 21,
   "id": "c85fbeff-729f-47de-9e41-32c1dda9a039",
   "metadata": {},
   "outputs": [
    {
     "name": "stdout",
     "output_type": "stream",
     "text": [
      "WHITE WINE CLUSTER FEATURE NAMES\n",
      "Cluster 0:\n",
      " riesling\n",
      " flavour\n",
      " honey\n",
      " icewine\n",
      " peach\n",
      " semi\n",
      " brown\n",
      " hold\n",
      " integrated\n",
      " candy\n",
      "Cluster 1:\n",
      " note\n",
      " finish\n",
      " wine\n",
      " citrus\n",
      " light\n",
      " crisp\n",
      " fruit\n",
      " floral\n",
      " body\n",
      " tropical\n",
      "Cluster 2:\n",
      " apple\n",
      " lemon\n",
      " vanilla\n",
      " note\n",
      " pear\n",
      " aromas\n",
      " green\n",
      " touch\n",
      " fresh\n",
      " honey\n",
      "Cluster 3:\n",
      " blend\n",
      " canadian\n",
      " aromas\n",
      " fruit\n",
      " gooseberry\n",
      " pear\n",
      " white\n",
      " aromatic\n",
      " pineapple\n",
      " bask\n"
     ]
    }
   ],
   "source": [
    "### White Wine\n",
    "X = vectorizer.fit_transform(dfWhiteWine['clean_tastingNotes'])\n",
    "modelWhiteWine = KMeans(n_clusters=4, init='k-means++', max_iter=100, n_init=1)\n",
    "modelWhiteWine.fit(X)\n",
    "order_centroids = modelWhiteWine.cluster_centers_.argsort()[:, ::-1]\n",
    "terms = vectorizer.get_feature_names()\n",
    "\n",
    "# looking at White Wine cluster feature names\n",
    "print(\"WHITE WINE CLUSTER FEATURE NAMES\")\n",
    "for i in range(4):\n",
    "    print(\"Cluster %d:\" % i),\n",
    "    for ind in order_centroids[i, :10]:\n",
    "        print(\" %s\" % terms[ind])\n",
    "# adding white wine clusters to csv\n",
    "labels = modelWhiteWine.labels_\n",
    "dfWhiteWine[\"Cluster\"] = labels\n",
    "dfWhiteWine.to_csv(\"/Users/bridgetmoynihan/whiteWines.csv\")"
   ]
  },
  {
   "cell_type": "markdown",
   "id": "2b1c88b9-581a-4174-85b5-2113f3769cad",
   "metadata": {},
   "source": [
    "#### Now, I am going to pull a white wine from the LCBO website, to see how it is classified\n",
    "##### I am pulling a sweeter reisling wine"
   ]
  },
  {
   "cell_type": "code",
   "execution_count": 22,
   "id": "0b5ae28f-44b1-4fed-af7c-2b31ead0610c",
   "metadata": {},
   "outputs": [
    {
     "name": "stdout",
     "output_type": "stream",
     "text": [
      "[0]\n"
     ]
    }
   ],
   "source": [
    "\n",
    "textTest2=\"The Riesling for this easy-on-the-wallet 2017 was allowed to hang longer than usual, intensifying the fruit flavour. Riesling holds exceptionally well on the vine, maintaining its bright acidity through such extended ripening. This exceptional natural acidity is also why Riesling is so ageable. Expect this 2017 to reflect peach, apple and pear, with an emerging mineral oil tone. Try it with smoked meat.\"\n",
    "cleanTextTest2 = finalpreprocess(textTest2)\n",
    "X = vectorizer.transform([cleanTextTest2])\n",
    "predicted = modelWhiteWine.predict(X)\n",
    "print(predicted)"
   ]
  },
  {
   "cell_type": "markdown",
   "id": "315828a1-47c9-4378-a3e2-7aa52241747b",
   "metadata": {},
   "source": [
    "##### From my experience, comparing this reisling to other wines in my list, it is in the same cluster as similar wines\n"
   ]
  },
  {
   "cell_type": "code",
   "execution_count": null,
   "id": "d13864dd-9489-4c12-8777-e9e761bd5f57",
   "metadata": {},
   "outputs": [],
   "source": []
  }
 ],
 "metadata": {
  "kernelspec": {
   "display_name": "Python 3 (ipykernel)",
   "language": "python",
   "name": "python3"
  },
  "language_info": {
   "codemirror_mode": {
    "name": "ipython",
    "version": 3
   },
   "file_extension": ".py",
   "mimetype": "text/x-python",
   "name": "python",
   "nbconvert_exporter": "python",
   "pygments_lexer": "ipython3",
   "version": "3.9.7"
  }
 },
 "nbformat": 4,
 "nbformat_minor": 5
}
